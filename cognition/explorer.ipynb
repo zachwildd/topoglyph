{
 "cells": [
  {
   "cell_type": "code",
   "execution_count": null,
   "id": "8cbad335",
   "metadata": {},
   "outputs": [],
   "source": []
  },
  {
   "cell_type": "markdown",
   "id": "863595bd",
   "metadata": {},
   "source": []
  },
  {
   "cell_type": "code",
   "execution_count": null,
   "id": "7369f5bf",
   "metadata": {},
   "outputs": [],
   "source": [
    "# cognet\n",
    "# - figuring shit out\n",
    "\n",
    "# cosmos\n",
    "# - cosmic web of models"
   ]
  },
  {
   "cell_type": "code",
   "execution_count": null,
   "id": "77f8fe4e",
   "metadata": {},
   "outputs": [],
   "source": [
    "# \n",
    "# "
   ]
  }
 ],
 "metadata": {
  "kernelspec": {
   "display_name": "my-env",
   "language": "python",
   "name": "python3"
  },
  "language_info": {
   "name": "python",
   "version": "3.11.9"
  }
 },
 "nbformat": 4,
 "nbformat_minor": 5
}
